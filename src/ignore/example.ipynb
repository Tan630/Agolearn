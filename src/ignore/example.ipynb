{
 "cells": [
  {
   "cell_type": "markdown",
   "metadata": {},
   "source": [
    "Make it possible to import local modules"
   ]
  },
  {
   "cell_type": "code",
   "execution_count": 1,
   "metadata": {},
   "outputs": [],
   "source": [
    "import os\n",
    "import sys\n",
    "nb_dir = os.path.split(os.getcwd())[0]\n",
    "if nb_dir not in sys.path:\n",
    "    sys.path.append(nb_dir)"
   ]
  },
  {
   "cell_type": "markdown",
   "metadata": {},
   "source": [
    "The OneMax problem is a canonical optimization problem in evolutionary learning. Given a bit string of a given length, the algorithm seeks to maximize its _fitness_ - which, in this context, is the sum of its digits. The _variator_ creates offspring by flipping each bit with a probability.\n",
    "\n",
    "For a conrete example, the string\n",
    "$$X=[1,1,0,0,0],$$\n",
    "has a fitness of $2$ (for $1+1+0+0+0$). The variator then creates 2 children: $X'_1=[1,\\color{red}0\\color{defaultcolor},\\color{green}1\\color{defaultcolor},0,0]$ with fitness $2$ and $X'_2=[1,1,0,0,\\color{green}1\\color{defaultcolor}]$ with fitness $3$. The selector chooses $X'_2$, whose fitness is higher.\n",
    "\n",
    "The _mutation rate_ - probability that each bit is flippped - is a parameter. The optimal value should be dynamic, and depend on the size of a string as well as the density of \"1\"s. For example, mutation rate for the string\n",
    "$$[0,0,0,0,0]$$\n",
    "should be as high as possible, because any change will result in a increase in fitness. This example does not use a dynamic parameter, however.\n",
    "\n",
    "The optimal mutation rate has been found[^1].\n",
    "\n",
    "[^1]: https://arxiv.org/abs/2006.11457"
   ]
  },
  {
   "cell_type": "markdown",
   "metadata": {},
   "source": [
    "Code begins here. Start with importing core modules."
   ]
  },
  {
   "cell_type": "code",
   "execution_count": 3,
   "metadata": {},
   "outputs": [],
   "source": [
    "import typing\n",
    "import random\n",
    "from typing import TypeVar\n",
    "from typing import Tuple\n",
    "from typing import Optional\n",
    "from core.controller import Controller\n",
    "from core.evaluator import Evaluator\n",
    "from core.population import Population\n",
    "from core.population import Genome\n",
    "from core.variator import Variator\n",
    "from core.controller import Controller\n",
    "from core.selector import Elitist\n",
    "from core.selector import SimpleSelector\n",
    "from core.selector import TournamentSelector\n"
   ]
  },
  {
   "cell_type": "markdown",
   "metadata": {},
   "source": [
    "Declare exceptions for the learning process."
   ]
  },
  {
   "cell_type": "code",
   "execution_count": 4,
   "metadata": {},
   "outputs": [],
   "source": [
    "class IllegalVariation(Exception):\n",
    "    def __init__(self):\n",
    "        super().__init__(\"Given index out of bound!\")\n",
    "\n",
    "T = TypeVar('T', bound=Genome)"
   ]
  },
  {
   "cell_type": "markdown",
   "metadata": {},
   "source": [
    "Declare the binary string representation `Binary` (a poor name), override necessary methods.\n",
    "\n",
    "This is in fact [part of the framework](../evolvables/main.py), which is copied here verbatim. Once the representation is declared, the user can reuse it."
   ]
  },
  {
   "cell_type": "code",
   "execution_count": 7,
   "metadata": {},
   "outputs": [],
   "source": [
    "class Binary(Genome[T]):\n",
    "    def __init__(self, len: int, value: typing.Optional[int] = None) -> None: \n",
    "        super().__init__()\n",
    "        self.length = len\n",
    "        if (value is None):\n",
    "            self._value = 0\n",
    "        else:\n",
    "            self._value = value\n",
    "    \n",
    "    def _assert_index_is_valid(self, pos: int):\n",
    "        if pos >= self.length:\n",
    "            raise IllegalVariation\n",
    "\n",
    "    def toggle(self, pos: int):\n",
    "        self._assert_index_is_valid(pos)\n",
    "        self._value = (self._value ^ (1 << (pos)))\n",
    "\n",
    "\n",
    "    def __len__(self) -> int:\n",
    "        return self.length\n",
    "    \n",
    "    @classmethod\n",
    "    def create_random(cls, len:int) -> typing.Self:\n",
    "        bin = cls(len)\n",
    "        for i in range(0, len):\n",
    "            if (bool(random.getrandbits(1))):\n",
    "                bin.toggle(i)\n",
    "        return bin\n",
    "\n",
    "    @property\n",
    "    def value(self):\n",
    "        return self._value\n",
    "    \n",
    "    def copy(self) -> typing.Self:\n",
    "        new_copy = self.__class__(self.length, self.value)\n",
    "        return new_copy\n",
    "    \n",
    "    __deepcopy__ = copy\n",
    "    __copy__ = copy\n",
    "\n",
    "    def __str__(self):\n",
    "        # return str(bin(self._value))[2:].ljust(self.length, '0')\n",
    "        return str(bin(self._value))[2:].rjust(self.length, '0')"
   ]
  },
  {
   "cell_type": "markdown",
   "metadata": {},
   "source": [
    "Then, declare the evaluator `BitDistanceEvaluator`. It simply sums the bits in a `Binary` string."
   ]
  },
  {
   "cell_type": "code",
   "execution_count": 6,
   "metadata": {},
   "outputs": [],
   "source": [
    "class BitDistanceEvaluator(Evaluator[Binary]):\n",
    "    def evaluate(self, s1: Binary) -> float:\n",
    "        return s1._value.bit_count()"
   ]
  },
  {
   "cell_type": "markdown",
   "metadata": {},
   "source": [
    "Then, declare the variator `RandomBitMutator`. The name \"mutator\" means that the variator create offspring with only one parent. If more than one parent is used, then it becomes a _crossover operator_."
   ]
  },
  {
   "cell_type": "code",
   "execution_count": 45,
   "metadata": {},
   "outputs": [],
   "source": [
    "class RandomBitMutator(Variator[Binary]):\n",
    "    def __init__ (self, mr = 0.001):\n",
    "        super().__init__(1, 2)\n",
    "        self.mr = mr\n",
    "\n",
    "    def vary(self, parents: Tuple[Binary, ...], **kwargs) -> Tuple[Binary, ...]:\n",
    "        binary = parents[0].copy()\n",
    "        newbits = parents[0].copy()\n",
    "        \n",
    "        for i in range(0, len(binary)): # Somehow cannot properly implement the __len__ dunder \n",
    "            if (random.random()<self.mr):\n",
    "                binary.toggle(i)\n",
    "                newbits.toggle(i)\n",
    "        return (binary, newbits)\n"
   ]
  },
  {
   "cell_type": "markdown",
   "metadata": {},
   "source": [
    "Running the code is simple, once the necessary operators are declared.\n",
    "\n",
    "Note that while the initial population is small, the variator quickly creates more variations to "
   ]
  },
  {
   "cell_type": "code",
   "execution_count": 64,
   "metadata": {},
   "outputs": [
    {
     "name": "stdout",
     "output_type": "stream",
     "text": [
      "  generation    population size    best score    worst score\n",
      "------------  -----------------  ------------  -------------\n",
      "           0                 23            56             45\n",
      "           1                 49            57             45\n",
      "           2                101            58             44\n",
      "           3                101            59             51\n",
      "           4                101            60             54\n",
      "           5                101            60             56\n",
      "           6                101            61             57\n",
      "           7                101            63             58\n",
      "           8                101            66             60\n",
      "           9                101            67             60\n",
      "          10                101            68             62\n",
      "          11                101            68             63\n",
      "          12                101            70             64\n",
      "          13                101            71             66\n",
      "          14                101            72             67\n",
      "          15                101            72             68\n",
      "          16                101            73             69\n",
      "          17                101            74             70\n",
      "          18                101            75             71\n",
      "          19                101            75             72\n",
      "          20                101            75             72\n",
      "          21                101            76             73\n",
      "          22                101            78             74\n",
      "          23                101            79             74\n",
      "          24                101            80             75\n",
      "          25                101            81             75\n",
      "          26                101            81             76\n",
      "          27                101            81             78\n",
      "          28                101            82             79\n",
      "          29                101            83             79\n",
      "          30                101            84             80\n",
      "          31                101            84             81\n",
      "          32                101            84             81\n",
      "          33                101            84             82\n",
      "          34                101            85             82\n",
      "          35                101            85             83\n",
      "          36                101            86             83\n",
      "          37                101            87             84\n",
      "          38                101            87             84\n",
      "          39                101            87             85\n",
      "          40                101            88             85\n",
      "          41                101            88             85\n",
      "          42                101            88             86\n",
      "          43                101            89             86\n",
      "          44                101            89             86\n",
      "          45                101            90             87\n",
      "          46                101            90             87\n",
      "          47                101            90             88\n",
      "          48                101            90             88\n",
      "          49                101            90             88\n",
      "          50                101            90             89\n",
      "          51                101            91             89\n",
      "          52                101            92             89\n",
      "          53                101            92             89\n",
      "          54                101            92             89\n",
      "          55                101            92             90\n",
      "          56                101            92             90\n",
      "          57                101            93             90\n",
      "          58                101            93             91\n",
      "          59                101            94             91\n",
      "          60                101            94             91\n",
      "          61                101            94             92\n",
      "          62                101            95             92\n",
      "          63                101            95             93\n",
      "          64                101            96             93\n",
      "          65                101            96             93\n",
      "          66                101            96             94\n",
      "          67                101            96             94\n",
      "          68                101            96             94\n",
      "          69                101            96             94\n",
      "          70                101            97             95\n",
      "          71                101            97             95\n",
      "          72                101            97             95\n",
      "          73                101            97             96\n",
      "          74                101            98             96\n",
      "          75                101            98             96\n",
      "          76                101            98             96\n",
      "          77                101            98             96\n",
      "          78                101            98             96\n",
      "          79                101            98             96\n",
      "          80                101            98             96\n",
      "          81                101            98             97\n",
      "          82                101            98             97\n",
      "          83                101            98             97\n",
      "          84                101            98             97\n",
      "          85                101            99             97\n",
      "          86                101            99             97\n",
      "          87                101            99             98\n",
      "          88                101            99             98\n",
      "          89                101            99             98\n",
      "          90                101            99             98\n",
      "          91                101            99             98\n",
      "          92                101            99             98\n",
      "          93                101            99             98\n",
      "          94                101            99             98\n",
      "          95                101            99             98\n",
      "          96                101            99             98\n",
      "          97                101            99             98\n",
      "          98                101            99             98\n",
      "          99                101            99             98\n"
     ]
    }
   ],
   "source": [
    "# Initialize population.\n",
    "init_pop = Population[Binary]()\n",
    "\n",
    "# The length of each bit string is 100.\n",
    "REPR_LEN = 100\n",
    "\n",
    "for i in range (0, 10):\n",
    "    init_pop.append(Binary.create_random(100))\n",
    "\n",
    "evaluator = BitDistanceEvaluator()\n",
    "# The \"elistst\" wrapper maintains the best genome so far. It deposites that\n",
    "#   genome into subsequent generations.\n",
    "pselector = Elitist(SimpleSelector[Binary](1, 100))\n",
    "cselector = Elitist(SimpleSelector[Binary](1, 100))\n",
    "variator = RandomBitMutator(0.006)\n",
    "\n",
    "ctrl = Controller[Binary] (\n",
    "    population = init_pop,\n",
    "    evaluator = evaluator,\n",
    "    variator = variator,\n",
    "    survivor_selector = pselector,\n",
    "    parent_selector = cselector\n",
    ")\n",
    "\n",
    "dicts : typing.Dict[int, Optional[float]]= {}\n",
    "\n",
    "for i in range(0, 100):\n",
    "    ctrl.step()\n",
    "    dicts[i] = {\"population size\" : len(ctrl.population),\n",
    "                \"best score\" : ctrl.population[0].score,\n",
    "                \"worst score\" : ctrl.population[-1].score}\n",
    "\n",
    "from tabulate import tabulate\n",
    "\n",
    "# Kludge a table for evolution process\n",
    "plist = []\n",
    "for i in dicts:\n",
    "    plist.append([i] + list(dicts[i].values()))\n",
    "\n",
    "\n",
    "\n",
    "print(tabulate(plist, headers=[\"generation\"] + list(dicts[i].keys())))\n"
   ]
  },
  {
   "cell_type": "code",
   "execution_count": 65,
   "metadata": {},
   "outputs": [
    {
     "ename": "SyntaxError",
     "evalue": "invalid syntax (3051657092.py, line 1)",
     "output_type": "error",
     "traceback": [
      "\u001b[1;36m  Cell \u001b[1;32mIn[65], line 1\u001b[1;36m\u001b[0m\n\u001b[1;33m    From the table\u001b[0m\n\u001b[1;37m         ^\u001b[0m\n\u001b[1;31mSyntaxError\u001b[0m\u001b[1;31m:\u001b[0m invalid syntax\n"
     ]
    }
   ],
   "source": [
    "From the table"
   ]
  },
  {
   "cell_type": "code",
   "execution_count": 62,
   "metadata": {},
   "outputs": [
    {
     "data": {
      "text/plain": [
       "[<matplotlib.lines.Line2D at 0x201fe679430>]"
      ]
     },
     "execution_count": 62,
     "metadata": {},
     "output_type": "execute_result"
    },
    {
     "data": {
      "image/png": "[encoded data removed]",
      "text/plain": [
       "<Figure size 640x480 with 1 Axes>"
      ]
     },
     "metadata": {},
     "output_type": "display_data"
    }
   ],
   "source": []
  },
  {
   "cell_type": "code",
   "execution_count": 57,
   "metadata": {},
   "outputs": [
    {
     "data": {
      "text/plain": [
       "dict_keys([0.0, 0.01, 0.02, 0.03, 0.04, 0.05, 0.06, 0.07, 0.08, 0.09])"
      ]
     },
     "execution_count": 57,
     "metadata": {},
     "output_type": "execute_result"
    }
   ],
   "source": []
  }
 ],
 "metadata": {
  "kernelspec": {
   "display_name": "Python 3",
   "language": "python",
   "name": "python3"
  },
  "language_info": {
   "codemirror_mode": {
    "name": "ipython",
    "version": 3
   },
   "file_extension": ".py",
   "mimetype": "text/x-python",
   "name": "python",
   "nbconvert_exporter": "python",
   "pygments_lexer": "ipython3",
   "version": "3.12.0"
  }
 },
 "nbformat": 4,
 "nbformat_minor": 2
}
